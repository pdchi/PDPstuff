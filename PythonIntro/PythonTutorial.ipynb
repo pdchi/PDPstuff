{
 "cells": [
  {
   "cell_type": "markdown",
   "metadata": {},
   "source": [
    "# Introduction\n",
    "\n",
    "Howdy! This notebook will help you get acquainted with Python. Some material adapted from   https://github.com/rajathkumarmp/Python-Lectures\n",
    "\n",
    "To start, you can type \"jupyter notebook\" into the terminal, which will display the files in your current directory. To open up a jupyter notebook directly, you can also type \"jupyter notebook examplefile.ipynb\" into the terminal. \n",
    "\n",
    "Jupyter notebooks provide an interactive coding environment, where your code is written and executed in cells, like so..."
   ]
  },
  {
   "cell_type": "code",
   "execution_count": 1,
   "metadata": {
    "collapsed": false
   },
   "outputs": [
    {
     "name": "stdout",
     "output_type": "stream",
     "text": [
      "Hello world!\n"
     ]
    }
   ],
   "source": [
    "print('Hello world!')"
   ]
  },
  {
   "cell_type": "markdown",
   "metadata": {},
   "source": [
    "Cells can be executed through the keyboard shortcut `shift+enter`, or through the Cell menu in the toolbar. Try it out!\n",
    "\n",
    "The python backend that actually runs the code is called the kernel. If python seems to freeze or you just want to reset everything, you can do so from the kernel menu up above. \n",
    "\n",
    "Comments can be done either through markdown cells like this one, or inline with the code itself using #. \n",
    "Always keep your code well-commented!"
   ]
  },
  {
   "cell_type": "code",
   "execution_count": null,
   "metadata": {
    "collapsed": false
   },
   "outputs": [],
   "source": [
    "print('python sees this') #but ignores this. By the way, the ' ' tells python that the text inside is a string"
   ]
  },
  {
   "cell_type": "markdown",
   "metadata": {},
   "source": [
    "# Getting Started\n",
    "\n",
    "Python by itself can only do a few basic things, such as basic arithmetic and variable manipulation. However, python provides an easy way to access more functionality - by importing packages and functions, including your own!\n",
    "\n",
    "For our current purposes, we'll just need two common packages: `matplotlib` which gives us access to plotting, and `numpy` which gives allows us to work with our data more easily.  "
   ]
  },
  {
   "cell_type": "code",
   "execution_count": null,
   "metadata": {
    "collapsed": true
   },
   "outputs": [],
   "source": [
    "%matplotlib inline\n",
    "import matplotlib.pyplot as plt\n",
    "import numpy as np"
   ]
  },
  {
   "cell_type": "markdown",
   "metadata": {},
   "source": [
    "When we want to use a function from either package, we simply need to reference the nickname we've given the package, for example, plotting will be plt.plot(). "
   ]
  },
  {
   "cell_type": "markdown",
   "metadata": {},
   "source": [
    "# Variables\n",
    "\n",
    "A name that is used to denote something or a value is called a variable. In python, variables can be declared and values can be assigned to it as follows,"
   ]
  },
  {
   "cell_type": "code",
   "execution_count": null,
   "metadata": {
    "collapsed": false
   },
   "outputs": [],
   "source": [
    "#lets declare some integers\n",
    "x = 2\n",
    "y = 3\n",
    "\n",
    "#and a string\n",
    "z = 'Hi'\n",
    "\n",
    "print x, y+1, z"
   ]
  },
  {
   "cell_type": "markdown",
   "metadata": {},
   "source": [
    "# Arithmetic Operators\n",
    "These will let us do math with our variables: \n",
    "\n",
    "| Symbol | Task Performed |\n",
    "|----|---|\n",
    "| +  | Addition |\n",
    "| -  | Subtraction |\n",
    "| *  | multiplication |\n",
    "| /  | division |\n",
    "| **  | to the power of |\n",
    "\n",
    "Also, you'll notice below that there are spaces between all operators/variables. Python doesn't care about them, `1+2` and `1 + 2` are the same, however the latter is better for readability..."
   ]
  },
  {
   "cell_type": "code",
   "execution_count": null,
   "metadata": {
    "collapsed": false
   },
   "outputs": [],
   "source": [
    "1 + 2"
   ]
  },
  {
   "cell_type": "code",
   "execution_count": null,
   "metadata": {
    "collapsed": false
   },
   "outputs": [],
   "source": [
    "3 - 5"
   ]
  },
  {
   "cell_type": "code",
   "execution_count": null,
   "metadata": {
    "collapsed": false
   },
   "outputs": [],
   "source": [
    "3 * 5"
   ]
  },
  {
   "cell_type": "code",
   "execution_count": null,
   "metadata": {
    "collapsed": false
   },
   "outputs": [],
   "source": [
    "1 / 2"
   ]
  },
  {
   "cell_type": "markdown",
   "metadata": {},
   "source": [
    "Wait, hold on, 0? The reason this occurs is because our inputs are 'ints' or integers, so python will try to return an integer. 1/2 = 0.5, which python will cut off as 0. To prevent this, we want our numbers as 'floats' or floating point numbers. This can be done simply by adding a decimal point,"
   ]
  },
  {
   "cell_type": "code",
   "execution_count": null,
   "metadata": {
    "collapsed": false
   },
   "outputs": [],
   "source": [
    "1 / 2."
   ]
  },
  {
   "cell_type": "markdown",
   "metadata": {},
   "source": [
    "Phew, much better. Notice I only changed the 2 into a float, python is generally smart enough to shift outputs to the most precise variable type. It's probably better to just remember to keep everything in floats though. "
   ]
  },
  {
   "cell_type": "code",
   "execution_count": null,
   "metadata": {
    "collapsed": false
   },
   "outputs": [],
   "source": [
    "#remember our variables from earlier?\n",
    "x ** y"
   ]
  },
  {
   "cell_type": "code",
   "execution_count": null,
   "metadata": {
    "collapsed": false
   },
   "outputs": [],
   "source": [
    "#scientific notation works aswell\n",
    "6.626e-34 * 2."
   ]
  },
  {
   "cell_type": "markdown",
   "metadata": {},
   "source": [
    "# Defining an Array\n",
    "Of course, data sets are much larger than just a few numbers. In order to handle them, we can define arrays of numbers, with the help of numpy. Arrays allow us to perform an operation on the entire dataset at once. "
   ]
  },
  {
   "cell_type": "code",
   "execution_count": null,
   "metadata": {
    "collapsed": false
   },
   "outputs": [],
   "source": [
    "a = np.array([1,2,3])\n",
    "print a\n",
    "print a+3"
   ]
  },
  {
   "cell_type": "code",
   "execution_count": null,
   "metadata": {
    "collapsed": false
   },
   "outputs": [],
   "source": [
    "b = a*a\n",
    "print b"
   ]
  },
  {
   "cell_type": "markdown",
   "metadata": {},
   "source": [
    "numpy also provides a range of other array creation tools. Some useful ones are,"
   ]
  },
  {
   "cell_type": "code",
   "execution_count": null,
   "metadata": {
    "collapsed": false
   },
   "outputs": [],
   "source": [
    "#arange(n) creates an array of size n where each element counts up. \n",
    "#Note that programmers count starting from 0!\n",
    "np.arange(10) "
   ]
  },
  {
   "cell_type": "code",
   "execution_count": null,
   "metadata": {
    "collapsed": false
   },
   "outputs": [],
   "source": [
    "#zeros(n) creates an array of size n, where all elements are 0\n",
    "np.zeros(10)"
   ]
  },
  {
   "cell_type": "markdown",
   "metadata": {},
   "source": [
    "# Defining Functions, Plotting, and Loading Data\n",
    "Sometimes we want to do the same thing multiple times, but rewriting or copy+pasting the same lines of code over and over is both inefficient and unsightly. Instead, you can define your own functions. "
   ]
  },
  {
   "cell_type": "code",
   "execution_count": null,
   "metadata": {
    "collapsed": false
   },
   "outputs": [],
   "source": [
    "def line(x, m, b): \n",
    "    y = m * x + b\n",
    "    return y\n",
    "\n",
    "xpoints = np.arange(10)\n",
    "ypoints = line(xpoints, 2, -3)\n",
    "\n",
    "print xpoints, ypoints"
   ]
  },
  {
   "cell_type": "markdown",
   "metadata": {},
   "source": [
    "Huh...yea...I guess that's a line. Maybe.\n",
    "\n",
    "We can do better though, let's make a plot,"
   ]
  },
  {
   "cell_type": "code",
   "execution_count": null,
   "metadata": {
    "collapsed": false
   },
   "outputs": [],
   "source": [
    "plt.plot(xpoints,ypoints)"
   ]
  },
  {
   "cell_type": "code",
   "execution_count": null,
   "metadata": {
    "collapsed": false,
    "scrolled": false
   },
   "outputs": [],
   "source": [
    "#Awesome. This plot is kinda bland though, lets add some flair\n",
    "plt.plot(xpoints,ypoints)\n",
    "\n",
    "#adjust the ranges on the x and y axis\n",
    "plt.axis([-3, 10, -7, 18])\n",
    "\n",
    "#add a title and labels\n",
    "plt.title('Line Plot')\n",
    "plt.xlabel('the x-axis')\n",
    "plt.ylabel('the y-axis')"
   ]
  },
  {
   "cell_type": "markdown",
   "metadata": {},
   "source": [
    "Sweet. \n",
    "\n",
    "Finally, lets see how we can load in some data, since I'm definitely not going to type it in for you..."
   ]
  },
  {
   "cell_type": "code",
   "execution_count": null,
   "metadata": {
    "collapsed": false,
    "scrolled": true
   },
   "outputs": [],
   "source": [
    "data = np.loadtxt('data1.txt')\n",
    "print data"
   ]
  },
  {
   "cell_type": "markdown",
   "metadata": {},
   "source": [
    "Yikes, that's a lot of numbers. In Jupyter, if you mouseover directly to the left of an output cell, you can click on it to change whether Jupyter shows all the data, puts it into a scroll box, or double-click to hide it completely. \n",
    "\n",
    "Anyways, lets see what this data looks like..."
   ]
  },
  {
   "cell_type": "code",
   "execution_count": null,
   "metadata": {
    "collapsed": false
   },
   "outputs": [],
   "source": [
    "#our data is a large two column array. You can slice it apart like so...\n",
    "xdata = data[:,0] # ':' means get everything in this axis, so [:,0] means everything in the 0th column\n",
    "ydata = data[:,1]\n",
    "\n",
    "#matplotlib also provides various plotting styles...\n",
    "plt.scatter(xdata, ydata)\n",
    "plt.scatter(xdata, ydata + 50, color = 'green') #plotting the same data, but offset by 50. Let's make it a different color too"
   ]
  },
  {
   "cell_type": "markdown",
   "metadata": {},
   "source": [
    "Neat. Here's one more example, "
   ]
  },
  {
   "cell_type": "code",
   "execution_count": null,
   "metadata": {
    "collapsed": false
   },
   "outputs": [],
   "source": [
    "data2 = np.loadtxt('data2.txt')\n",
    "xdata2 = data2[:,0]\n",
    "ydata2 = data2[:,1]\n",
    "plt.scatter(xdata2, ydata2)\n",
    "\n",
    "model = np.loadtxt('model.txt')\n",
    "xmodel = model[:,0]\n",
    "ymodel = model[:,1]\n",
    "plt.plot(xmodel, ymodel)"
   ]
  },
  {
   "cell_type": "markdown",
   "metadata": {},
   "source": [
    "# Miscellanea\n",
    "Other stuff that you should know for programming but aren't needed for our activity. "
   ]
  },
  {
   "cell_type": "markdown",
   "metadata": {},
   "source": [
    "# Relational Operators and Conditionals\n",
    "\n",
    "Doing math on variables is nice, but we also want to be able to compare them. \n",
    "\n",
    "| Symbol | Task Performed |\n",
    "|----|---|\n",
    "| == | True, if it is equal |\n",
    "| !=  | True, if not equal to |\n",
    "| < | less than |\n",
    "| > | greater than |\n",
    "| <=  | less than or equal to |\n",
    "| >=  | greater than or equal to |\n",
    "\n",
    "We can use these in `if` statements, in order to only do stuff when certain conditions are met. \n",
    "\n",
    "Also note that the 'stuff' is indented. This is important, as this is how python keeps track of whether or not it is inside of a conditional statement. "
   ]
  },
  {
   "cell_type": "code",
   "execution_count": null,
   "metadata": {
    "collapsed": false
   },
   "outputs": [],
   "source": [
    "if x == 2:\n",
    "    print 'yay, x equals 2!'"
   ]
  },
  {
   "cell_type": "code",
   "execution_count": null,
   "metadata": {
    "collapsed": false
   },
   "outputs": [],
   "source": [
    "if y == 6:\n",
    "    print 'yay, y equals 6'\n",
    "else:\n",
    "    print 'aww, y is not equal to 6'\n",
    "    y = 6 \n",
    "    print 'but now it is...'\n",
    "\n",
    "print y"
   ]
  },
  {
   "cell_type": "markdown",
   "metadata": {},
   "source": [
    "# Loops\n",
    "What if we need to do things element-by-element in our arrays? Loops will get the job done. `For` loops consist of two parts, the conditional that tells it what to loop over, and the stuff it does each loop. "
   ]
  },
  {
   "cell_type": "code",
   "execution_count": null,
   "metadata": {
    "collapsed": false
   },
   "outputs": [],
   "source": [
    "for i in np.arange(10): \n",
    "    print i, i**2"
   ]
  }
 ],
 "metadata": {
  "kernelspec": {
   "display_name": "Python 2",
   "language": "python",
   "name": "python2"
  },
  "language_info": {
   "codemirror_mode": {
    "name": "ipython",
    "version": 2
   },
   "file_extension": ".py",
   "mimetype": "text/x-python",
   "name": "python",
   "nbconvert_exporter": "python",
   "pygments_lexer": "ipython2",
   "version": "2.7.12"
  }
 },
 "nbformat": 4,
 "nbformat_minor": 0
}
