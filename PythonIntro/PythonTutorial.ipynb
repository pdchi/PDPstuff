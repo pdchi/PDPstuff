{
 "cells": [
  {
   "cell_type": "markdown",
   "metadata": {},
   "source": [
    "# Introduction\n",
    "\n",
    "Howdy! This notebook will help you get acquainted with Python. Some material adapted from   https://github.com/rajathkumarmp/Python-Lectures\n",
    "\n",
    "To start, you can type \"jupyter notebook\" into the terminal, which will display the files in your current directory. To open up a jupyter notebook directly, you can also type \"jupyter notebook examplefile.ipynb\" into the terminal. \n",
    "\n",
    "Jupyter notebooks provide an interactive coding environment, where your code is written and executed in cells, like so..."
   ]
  },
  {
   "cell_type": "code",
   "execution_count": 1,
   "metadata": {},
   "outputs": [
    {
     "name": "stdout",
     "output_type": "stream",
     "text": [
      "Hello world!\n"
     ]
    }
   ],
   "source": [
    "print('Hello world!')"
   ]
  },
  {
   "cell_type": "markdown",
   "metadata": {},
   "source": [
    "Cells can be executed through the keyboard shortcut `shift+enter`, or through the Cell menu in the toolbar. Try it out!\n",
    "\n",
    "---\n",
    "\n",
    "The python backend that actually runs the code is called the kernel. If python seems to freeze or you just want to reset everything, you can do so from the kernel menu up above. \n",
    "\n",
    "To create or save notebooks, you can use the options in the File menu above. \n",
    "\n",
    "Comments can be done either through markdown cells like this one, or inline with the code itself using #. \n",
    "\n",
    "**Remember, save often, and always keep your code well-commented!**"
   ]
  },
  {
   "cell_type": "code",
   "execution_count": 2,
   "metadata": {},
   "outputs": [
    {
     "name": "stdout",
     "output_type": "stream",
     "text": [
      "python sees this\n"
     ]
    }
   ],
   "source": [
    "print('python sees this') #but ignores this. By the way, the ' ' tells python that the text inside is a string"
   ]
  },
  {
   "cell_type": "markdown",
   "metadata": {},
   "source": [
    "# Getting Started\n",
    "\n",
    "Python by itself can only do a few basic things, such as basic arithmetic and variable manipulation. However, python provides an easy way to access more functionality - by importing packages and functions, including your own!\n",
    "\n",
    "For our current purposes, we'll just need two common packages: `matplotlib` which gives us access to plotting, and `numpy` which gives allows us to work with our data more easily.  "
   ]
  },
  {
   "cell_type": "code",
   "execution_count": 3,
   "metadata": {},
   "outputs": [],
   "source": [
    "%matplotlib inline\n",
    "import matplotlib.pyplot as plt\n",
    "import numpy as np"
   ]
  },
  {
   "cell_type": "markdown",
   "metadata": {},
   "source": [
    "When we want to use a function from either package, we simply need to reference the nickname we've given the package, for example, plotting will be plt.plot(). "
   ]
  },
  {
   "cell_type": "markdown",
   "metadata": {},
   "source": [
    "# Variables\n",
    "\n",
    "A name that is used to denote something or a value is called a variable. In python, variables can be declared and values can be assigned to it as follows,"
   ]
  },
  {
   "cell_type": "code",
   "execution_count": 4,
   "metadata": {},
   "outputs": [
    {
     "name": "stdout",
     "output_type": "stream",
     "text": [
      "2 4 Hi\n"
     ]
    }
   ],
   "source": [
    "# lets declare some integers\n",
    "x = 2\n",
    "y = 3\n",
    "\n",
    "# and a string\n",
    "z = 'Hi'\n",
    "\n",
    "print(x, y+1, z)"
   ]
  },
  {
   "cell_type": "markdown",
   "metadata": {},
   "source": [
    "# Arithmetic Operators\n",
    "These will let us do math with our variables: \n",
    "\n",
    "| Symbol | Task Performed |\n",
    "|----|---|\n",
    "| +  | Addition |\n",
    "| -  | Subtraction |\n",
    "| *  | multiplication |\n",
    "| /  | division |\n",
    "| **  | to the power of |\n",
    "\n",
    "Also, you'll notice below that there are spaces between all operators/variables. Python doesn't care about them, `1+2` and `1 + 2` are the same, however the latter is better for readability..."
   ]
  },
  {
   "cell_type": "code",
   "execution_count": 5,
   "metadata": {},
   "outputs": [
    {
     "data": {
      "text/plain": [
       "3"
      ]
     },
     "execution_count": 5,
     "metadata": {},
     "output_type": "execute_result"
    }
   ],
   "source": [
    "1 + 2"
   ]
  },
  {
   "cell_type": "code",
   "execution_count": 6,
   "metadata": {},
   "outputs": [
    {
     "data": {
      "text/plain": [
       "-2"
      ]
     },
     "execution_count": 6,
     "metadata": {},
     "output_type": "execute_result"
    }
   ],
   "source": [
    "3 - 5"
   ]
  },
  {
   "cell_type": "code",
   "execution_count": 7,
   "metadata": {},
   "outputs": [
    {
     "data": {
      "text/plain": [
       "15"
      ]
     },
     "execution_count": 7,
     "metadata": {},
     "output_type": "execute_result"
    }
   ],
   "source": [
    "3 * 5"
   ]
  },
  {
   "cell_type": "code",
   "execution_count": 8,
   "metadata": {},
   "outputs": [
    {
     "data": {
      "text/plain": [
       "0.5"
      ]
     },
     "execution_count": 8,
     "metadata": {},
     "output_type": "execute_result"
    }
   ],
   "source": [
    "1 / 2"
   ]
  },
  {
   "cell_type": "markdown",
   "metadata": {},
   "source": [
    "Wait, hold on, 0? The reason this occurs is because our inputs are 'ints' or integers, so python will try to return an integer. 1/2 = 0.5, which python will cut off as 0. To prevent this, we want our numbers as 'floats' or floating point numbers. This can be done simply by adding a decimal point,\n",
    "\n",
    "*Note: Python 3 kernels now automatically convert int/int to float, resolving this issue. Integer division can be done with the '//' operator, e.g. 1 // 2 = 0"
   ]
  },
  {
   "cell_type": "code",
   "execution_count": 9,
   "metadata": {},
   "outputs": [
    {
     "data": {
      "text/plain": [
       "0.5"
      ]
     },
     "execution_count": 9,
     "metadata": {},
     "output_type": "execute_result"
    }
   ],
   "source": [
    "1 / 2."
   ]
  },
  {
   "cell_type": "markdown",
   "metadata": {},
   "source": [
    "Phew, much better. Notice I only changed the 2 into a float, python is generally smart enough to shift outputs to the most precise variable type. It's probably better to just remember to keep everything in floats though. "
   ]
  },
  {
   "cell_type": "code",
   "execution_count": 10,
   "metadata": {},
   "outputs": [
    {
     "data": {
      "text/plain": [
       "8"
      ]
     },
     "execution_count": 10,
     "metadata": {},
     "output_type": "execute_result"
    }
   ],
   "source": [
    "# remember our variables from earlier?\n",
    "x ** y"
   ]
  },
  {
   "cell_type": "code",
   "execution_count": 11,
   "metadata": {},
   "outputs": [
    {
     "data": {
      "text/plain": [
       "1.3252e-33"
      ]
     },
     "execution_count": 11,
     "metadata": {},
     "output_type": "execute_result"
    }
   ],
   "source": [
    "# scientific notation works aswell\n",
    "6.626e-34 * 2."
   ]
  },
  {
   "cell_type": "markdown",
   "metadata": {},
   "source": [
    "# Defining an Array\n",
    "Of course, data sets are much larger than just a few numbers. In order to handle them, we can define arrays of numbers, with the help of numpy. Arrays allow us to perform an operation on the entire dataset at once. "
   ]
  },
  {
   "cell_type": "code",
   "execution_count": 12,
   "metadata": {},
   "outputs": [
    {
     "name": "stdout",
     "output_type": "stream",
     "text": [
      "[1 2 3 4 5]\n",
      "[ 6  7  8  9 10]\n"
     ]
    }
   ],
   "source": [
    "a = np.array([1,2,3,4,5])\n",
    "print(a)\n",
    "print(a+5)"
   ]
  },
  {
   "cell_type": "code",
   "execution_count": 13,
   "metadata": {},
   "outputs": [
    {
     "name": "stdout",
     "output_type": "stream",
     "text": [
      "[ 1  4  9 16 25]\n"
     ]
    }
   ],
   "source": [
    "b = a*a\n",
    "print(b)"
   ]
  },
  {
   "cell_type": "markdown",
   "metadata": {},
   "source": [
    "---\n",
    "numpy also provides a range of other array creation tools. Some useful ones are,"
   ]
  },
  {
   "cell_type": "code",
   "execution_count": 14,
   "metadata": {},
   "outputs": [
    {
     "name": "stdout",
     "output_type": "stream",
     "text": [
      "2\n"
     ]
    }
   ],
   "source": [
    "# arange(n) creates an array of size n where each element counts up. \n",
    "# Note that programmers count starting from 0!\n",
    "np.arange(10) \n",
    "b = np.arange(10)\n",
    "print(b[2])"
   ]
  },
  {
   "cell_type": "code",
   "execution_count": 15,
   "metadata": {},
   "outputs": [
    {
     "data": {
      "text/plain": [
       "array([0., 0., 0., 0., 0., 0., 0., 0., 0., 0.])"
      ]
     },
     "execution_count": 15,
     "metadata": {},
     "output_type": "execute_result"
    }
   ],
   "source": [
    "# zeros(n) creates an array of size n, where all elements are 0\n",
    "np.zeros(10)"
   ]
  },
  {
   "cell_type": "markdown",
   "metadata": {},
   "source": [
    "---\n",
    "Elements from arrays can be called by their index in the form array[index1,index2...]. Note that when want to get elements from an array, you need to use square brackets: '[]' instead of parens.  \n",
    "\n",
    "Arrays can also be 'sliced' to extract a subset of the array by specifying a range of indices with a ':'\n"
   ]
  },
  {
   "cell_type": "code",
   "execution_count": 16,
   "metadata": {},
   "outputs": [
    {
     "name": "stdout",
     "output_type": "stream",
     "text": [
      "3\n",
      "[2 3 4]\n"
     ]
    }
   ],
   "source": [
    "print(a[2])\n",
    "\n",
    "# Note that it grabs elements 1 through 3\n",
    "print(a[1:4]) "
   ]
  },
  {
   "cell_type": "markdown",
   "metadata": {},
   "source": [
    "---\n",
    "\n",
    "Finally, arrays can be multidimensional. Different dimensions are simply seperated by commas"
   ]
  },
  {
   "cell_type": "code",
   "execution_count": 17,
   "metadata": {},
   "outputs": [
    {
     "name": "stdout",
     "output_type": "stream",
     "text": [
      "[[0. 0. 0. 0. 0.]\n",
      " [0. 0. 0. 0. 0.]\n",
      " [0. 0. 0. 0. 0.]\n",
      " [0. 0. 0. 0. 0.]]\n"
     ]
    }
   ],
   "source": [
    "multi = np.zeros([4,5])\n",
    "print(multi)"
   ]
  },
  {
   "cell_type": "markdown",
   "metadata": {},
   "source": [
    "# Defining Functions, Plotting, and Loading Data\n",
    "Sometimes we want to do the same thing multiple times, but rewriting or copy+pasting the same lines of code over and over is both inefficient and unsightly. Instead, you can define your own functions. "
   ]
  },
  {
   "cell_type": "code",
   "execution_count": 18,
   "metadata": {},
   "outputs": [
    {
     "name": "stdout",
     "output_type": "stream",
     "text": [
      "[0 1 2 3 4 5 6 7 8 9] [-3 -1  1  3  5  7  9 11 13 15]\n"
     ]
    }
   ],
   "source": [
    "def line(x, m, b): \n",
    "    y = m * x + b\n",
    "    return y\n",
    "\n",
    "xpoints = np.arange(10)\n",
    "ypoints = line(xpoints, 2, -3)\n",
    "\n",
    "print(xpoints, ypoints)"
   ]
  },
  {
   "cell_type": "markdown",
   "metadata": {},
   "source": [
    "Huh...yea...I guess that's a line. Maybe.\n",
    "\n",
    "We can do better though, let's make a plot,"
   ]
  },
  {
   "cell_type": "code",
   "execution_count": 19,
   "metadata": {},
   "outputs": [
    {
     "data": {
      "text/plain": [
       "[<matplotlib.lines.Line2D at 0x1dc7e3881d0>]"
      ]
     },
     "execution_count": 19,
     "metadata": {},
     "output_type": "execute_result"
    },
    {
     "data": {
      "image/png": "[encoded data removed]",
      "text/plain": [
       "<Figure size 432x288 with 1 Axes>"
      ]
     },
     "metadata": {
      "needs_background": "light"
     },
     "output_type": "display_data"
    }
   ],
   "source": [
    "plt.plot(xpoints,ypoints)"
   ]
  },
  {
   "cell_type": "code",
   "execution_count": 20,
   "metadata": {
    "scrolled": false
   },
   "outputs": [
    {
     "data": {
      "text/plain": [
       "Text(0, 0.5, 'the y-axis')"
      ]
     },
     "execution_count": 20,
     "metadata": {},
     "output_type": "execute_result"
    },
    {
     "data": {
      "image/png": "[encoded data removed]",
      "text/plain": [
       "<Figure size 432x288 with 1 Axes>"
      ]
     },
     "metadata": {
      "needs_background": "light"
     },
     "output_type": "display_data"
    }
   ],
   "source": [
    "# Awesome. This plot is kinda bland though, lets add some flair\n",
    "plt.plot(xpoints,ypoints)\n",
    "\n",
    "# adjust the ranges on the x and y axis\n",
    "plt.axis([-3, 10, -7, 18])\n",
    "\n",
    "# add a title and labels\n",
    "plt.title('Line Plot')\n",
    "plt.xlabel('the x-axis')\n",
    "plt.ylabel('the y-axis')"
   ]
  },
  {
   "cell_type": "markdown",
   "metadata": {},
   "source": [
    "Sweet. \n",
    "\n",
    "Finally, lets see how we can load in some data, since I'm definitely not going to type it in for you..."
   ]
  },
  {
   "cell_type": "code",
   "execution_count": 21,
   "metadata": {
    "scrolled": true
   },
   "outputs": [
    {
     "name": "stdout",
     "output_type": "stream",
     "text": [
      "[[ 14.213  36.882]\n",
      " [ 20.291  70.412]\n",
      " [  7.434  23.766]\n",
      " [ 14.894  44.26 ]\n",
      " [ 24.78   73.112]\n",
      " [ 19.213  55.548]\n",
      " [ 22.674  76.025]\n",
      " [ 15.702  54.086]\n",
      " [  1.125  -0.752]\n",
      " [  5.088  22.678]\n",
      " [ 15.384  32.973]\n",
      " [  4.998   3.114]\n",
      " [  8.04   22.386]\n",
      " [  5.259   9.712]\n",
      " [ 21.241  59.199]\n",
      " [  7.113  17.795]\n",
      " [ 20.855  60.981]\n",
      " [ 19.196  57.79 ]\n",
      " [ 14.48   46.52 ]\n",
      " [  0.526 -10.779]\n",
      " [ 20.932  61.038]\n",
      " [ 10.235  30.972]\n",
      " [ 20.389  57.471]\n",
      " [ 13.256  43.019]\n",
      " [ 16.236  63.384]\n",
      " [ 15.12   48.41 ]\n",
      " [  7.2    13.144]\n",
      " [  8.489  25.677]\n",
      " [ 16.039  45.083]\n",
      " [ 15.404  29.866]\n",
      " [  1.581 -15.144]\n",
      " [  8.731  20.311]\n",
      " [  8.747  30.793]\n",
      " [ 17.562  56.636]\n",
      " [  8.824  30.188]\n",
      " [  2.714   5.272]\n",
      " [ 15.839  56.004]\n",
      " [ 20.021  63.796]\n",
      " [ 12.749  42.354]\n",
      " [  0.807   0.651]\n",
      " [  4.005  10.493]\n",
      " [ 23.41   68.053]\n",
      " [ 11.385  25.202]\n",
      " [ 21.363  83.043]\n",
      " [  9.843  26.221]\n",
      " [ 16.771  49.251]\n",
      " [ 14.201  49.41 ]\n",
      " [  9.791  21.547]\n",
      " [ 22.881  76.331]\n",
      " [ 14.894  52.278]\n",
      " [  6.742  18.488]\n",
      " [ 13.166  35.511]\n",
      " [  0.239 -17.221]\n",
      " [ 18.814  68.077]\n",
      " [ 22.805  68.376]\n",
      " [  7.702  29.1  ]\n",
      " [ 20.663  69.229]\n",
      " [  5.778  20.878]\n",
      " [  0.804 -10.229]\n",
      " [ 24.396  88.962]\n",
      " [  2.422  -5.229]\n",
      " [ 10.405  29.859]\n",
      " [  5.526   2.054]\n",
      " [ 15.914  48.86 ]\n",
      " [  9.708  25.38 ]\n",
      " [ 15.59   44.667]\n",
      " [  0.707  -5.531]\n",
      " [ 24.871  73.226]\n",
      " [  2.888  -3.503]\n",
      " [  6.166  15.24 ]\n",
      " [  5.455   6.577]\n",
      " [ 14.92   53.249]\n",
      " [ 21.882  72.009]\n",
      " [ 11.661  35.537]\n",
      " [ 20.021  72.852]\n",
      " [ 20.432  61.624]\n",
      " [ 21.949  69.283]\n",
      " [ 17.97   43.435]\n",
      " [ 20.522  75.987]\n",
      " [ 16.97   50.669]\n",
      " [ 17.023  45.061]\n",
      " [  9.239  25.945]\n",
      " [ 17.273  64.83 ]\n",
      " [ 13.36   39.831]\n",
      " [ 14.206  36.621]\n",
      " [ 23.944  74.583]\n",
      " [ 14.794  43.529]\n",
      " [ 12.64   32.933]\n",
      " [  1.844  -8.722]\n",
      " [ 14.197  45.443]\n",
      " [  9.142  22.321]\n",
      " [  4.497   7.251]\n",
      " [  5.448  11.494]\n",
      " [  2.196  -5.24 ]\n",
      " [  1.246  -3.917]\n",
      " [ 20.273  58.705]\n",
      " [  5.3    14.508]\n",
      " [ 20.218  64.004]\n",
      " [  8.545  24.096]\n",
      " [  4.938   6.922]\n",
      " [ 10.854  31.134]\n",
      " [  8.115  22.576]\n",
      " [  3.147   7.448]\n",
      " [ 23.494  76.394]\n",
      " [  9.224  15.244]\n",
      " [  8.553  24.693]\n",
      " [  5.742  29.128]\n",
      " [ 14.141  42.807]\n",
      " [ 18.829  48.735]\n",
      " [ 18.354  61.382]\n",
      " [  7.344  26.908]\n",
      " [ 16.539  53.53 ]\n",
      " [ 10.303  28.199]\n",
      " [ 16.177  44.047]\n",
      " [ 23.955  72.878]\n",
      " [ 16.781  58.119]\n",
      " [  2.628   4.929]\n",
      " [  7.651  22.974]\n",
      " [ 18.553  60.789]\n",
      " [ 15.878  40.11 ]\n",
      " [ 21.696  77.802]\n",
      " [ 14.619  36.459]\n",
      " [  4.998  15.617]\n",
      " [ 17.267  51.83 ]\n",
      " [ 19.515  58.471]\n",
      " [ 13.994  44.675]\n",
      " [ 24.99   88.613]\n",
      " [ 19.17   58.023]\n",
      " [ 15.421  37.872]\n",
      " [  7.793  10.275]\n",
      " [ 16.853  51.487]\n",
      " [ 17.811  58.933]\n",
      " [ 16.214  43.368]\n",
      " [ 20.157  74.194]\n",
      " [ 22.731  63.62 ]\n",
      " [  0.871  -2.155]\n",
      " [  2.651   5.678]\n",
      " [  0.747 -12.671]\n",
      " [ 15.671  50.382]\n",
      " [ 15.745  48.975]\n",
      " [ 10.702  38.134]\n",
      " [ 10.839  27.346]\n",
      " [ 23.328  76.712]\n",
      " [ 24.258  84.941]\n",
      " [  6.384  13.38 ]\n",
      " [  9.401  30.576]\n",
      " [ 23.31   74.62 ]\n",
      " [  8.814  27.9  ]\n",
      " [  7.464  24.672]\n",
      " [  2.578  -6.435]\n",
      " [ 23.367  66.434]\n",
      " [  0.644  -2.875]\n",
      " [  1.234  -3.367]\n",
      " [  6.495   2.832]\n",
      " [  9.185  22.917]]\n"
     ]
    }
   ],
   "source": [
    "data = np.loadtxt('data/data1.txt')\n",
    "print(data)"
   ]
  },
  {
   "cell_type": "markdown",
   "metadata": {},
   "source": [
    "Yikes, that's a lot of numbers. In Jupyter, if you mouseover directly to the left of an output cell, you can click on it to change whether Jupyter shows all the data, puts it into a scroll box, or double-click to hide it completely. \n",
    "\n",
    "Anyways, lets see what this data looks like..."
   ]
  },
  {
   "cell_type": "code",
   "execution_count": 22,
   "metadata": {},
   "outputs": [
    {
     "data": {
      "text/plain": [
       "<matplotlib.collections.PathCollection at 0x1dc7e460be0>"
      ]
     },
     "execution_count": 22,
     "metadata": {},
     "output_type": "execute_result"
    },
    {
     "data": {
      "image/png": "[encoded data removed]",
      "text/plain": [
       "<Figure size 432x288 with 1 Axes>"
      ]
     },
     "metadata": {
      "needs_background": "light"
     },
     "output_type": "display_data"
    }
   ],
   "source": [
    "# our data is a large two column array. You can slice it apart like so...\n",
    "xdata = data[:,0] # ':' means get everything in this axis, so [:,0] means everything in the 0th column\n",
    "ydata = data[:,1]\n",
    "\n",
    "# matplotlib also provides various plotting styles...\n",
    "plt.scatter(xdata, ydata)\n",
    "plt.scatter(xdata, ydata + 50, color = 'green') # plotting the same data, but offset by 50. Let's make it a different color too"
   ]
  },
  {
   "cell_type": "markdown",
   "metadata": {},
   "source": [
    "Neat. Here's one more example, "
   ]
  },
  {
   "cell_type": "code",
   "execution_count": 23,
   "metadata": {},
   "outputs": [
    {
     "data": {
      "text/plain": [
       "[<matplotlib.lines.Line2D at 0x1dc7e4607f0>]"
      ]
     },
     "execution_count": 23,
     "metadata": {},
     "output_type": "execute_result"
    },
    {
     "data": {
      "image/png": "[encoded data removed]",
      "text/plain": [
       "<Figure size 432x288 with 1 Axes>"
      ]
     },
     "metadata": {
      "needs_background": "light"
     },
     "output_type": "display_data"
    }
   ],
   "source": [
    "data2 = np.loadtxt('data/data2.txt')\n",
    "xdata2 = data2[:,0]\n",
    "ydata2 = data2[:,1]\n",
    "plt.scatter(xdata2, ydata2)\n",
    "\n",
    "model = np.loadtxt('data/model.txt')\n",
    "xmodel = model[:,0]\n",
    "ymodel = model[:,1]\n",
    "plt.plot(xmodel, ymodel)"
   ]
  },
  {
   "cell_type": "markdown",
   "metadata": {},
   "source": [
    "# Miscellanea\n",
    "Other stuff that you should know for programming but aren't needed for our activity. \n",
    "\n",
    "## Help\n",
    "If you need help or are curious about what a function does, use the help() function, or try googling \"python [function name]\""
   ]
  },
  {
   "cell_type": "code",
   "execution_count": 24,
   "metadata": {},
   "outputs": [
    {
     "name": "stdout",
     "output_type": "stream",
     "text": [
      "Help on class range in module builtins:\n",
      "\n",
      "class range(object)\n",
      " |  range(stop) -> range object\n",
      " |  range(start, stop[, step]) -> range object\n",
      " |  \n",
      " |  Return an object that produces a sequence of integers from start (inclusive)\n",
      " |  to stop (exclusive) by step.  range(i, j) produces i, i+1, i+2, ..., j-1.\n",
      " |  start defaults to 0, and stop is omitted!  range(4) produces 0, 1, 2, 3.\n",
      " |  These are exactly the valid indices for a list of 4 elements.\n",
      " |  When step is given, it specifies the increment (or decrement).\n",
      " |  \n",
      " |  Methods defined here:\n",
      " |  \n",
      " |  __bool__(self, /)\n",
      " |      self != 0\n",
      " |  \n",
      " |  __contains__(self, key, /)\n",
      " |      Return key in self.\n",
      " |  \n",
      " |  __eq__(self, value, /)\n",
      " |      Return self==value.\n",
      " |  \n",
      " |  __ge__(self, value, /)\n",
      " |      Return self>=value.\n",
      " |  \n",
      " |  __getattribute__(self, name, /)\n",
      " |      Return getattr(self, name).\n",
      " |  \n",
      " |  __getitem__(self, key, /)\n",
      " |      Return self[key].\n",
      " |  \n",
      " |  __gt__(self, value, /)\n",
      " |      Return self>value.\n",
      " |  \n",
      " |  __hash__(self, /)\n",
      " |      Return hash(self).\n",
      " |  \n",
      " |  __iter__(self, /)\n",
      " |      Implement iter(self).\n",
      " |  \n",
      " |  __le__(self, value, /)\n",
      " |      Return self<=value.\n",
      " |  \n",
      " |  __len__(self, /)\n",
      " |      Return len(self).\n",
      " |  \n",
      " |  __lt__(self, value, /)\n",
      " |      Return self<value.\n",
      " |  \n",
      " |  __ne__(self, value, /)\n",
      " |      Return self!=value.\n",
      " |  \n",
      " |  __new__(*args, **kwargs) from builtins.type\n",
      " |      Create and return a new object.  See help(type) for accurate signature.\n",
      " |  \n",
      " |  __reduce__(...)\n",
      " |      helper for pickle\n",
      " |  \n",
      " |  __repr__(self, /)\n",
      " |      Return repr(self).\n",
      " |  \n",
      " |  __reversed__(...)\n",
      " |      Return a reverse iterator.\n",
      " |  \n",
      " |  count(...)\n",
      " |      rangeobject.count(value) -> integer -- return number of occurrences of value\n",
      " |  \n",
      " |  index(...)\n",
      " |      rangeobject.index(value, [start, [stop]]) -> integer -- return index of value.\n",
      " |      Raise ValueError if the value is not present.\n",
      " |  \n",
      " |  ----------------------------------------------------------------------\n",
      " |  Data descriptors defined here:\n",
      " |  \n",
      " |  start\n",
      " |  \n",
      " |  step\n",
      " |  \n",
      " |  stop\n",
      "\n"
     ]
    }
   ],
   "source": [
    "help(range)"
   ]
  },
  {
   "cell_type": "markdown",
   "metadata": {},
   "source": [
    "## Relational Operators and Conditionals\n",
    "\n",
    "Doing math on variables is nice, but we also want to be able to compare them. \n",
    "\n",
    "| Symbol | Task Performed |\n",
    "|----|---|\n",
    "| == | True, if it is equal |\n",
    "| !=  | True, if not equal to |\n",
    "| < | less than |\n",
    "| > | greater than |\n",
    "| <=  | less than or equal to |\n",
    "| >=  | greater than or equal to |\n",
    "\n",
    "We can use these in `if` statements, in order to only do stuff when certain conditions are met. \n",
    "\n",
    "Also note that the 'stuff' is indented. This is important, as this is how python keeps track of whether or not it is inside of a conditional statement. "
   ]
  },
  {
   "cell_type": "code",
   "execution_count": 25,
   "metadata": {},
   "outputs": [
    {
     "name": "stdout",
     "output_type": "stream",
     "text": [
      "yay, x equals 2!\n"
     ]
    }
   ],
   "source": [
    "if x == 2:\n",
    "    print('yay, x equals 2!')"
   ]
  },
  {
   "cell_type": "code",
   "execution_count": 26,
   "metadata": {},
   "outputs": [
    {
     "name": "stdout",
     "output_type": "stream",
     "text": [
      "aww, y is not equal to 6\n",
      "but now it is...\n",
      "6\n"
     ]
    }
   ],
   "source": [
    "if y == 6:\n",
    "    print('yay, y equals 6')\n",
    "else:\n",
    "    print('aww, y is not equal to 6')\n",
    "    y = 6 \n",
    "    print('but now it is...')\n",
    "\n",
    "print(y)"
   ]
  },
  {
   "cell_type": "markdown",
   "metadata": {},
   "source": [
    "## Loops\n",
    "What if we need to do things element-by-element in our arrays? Loops will get the job done. `For` loops consist of two parts, the conditional that tells it what to loop over, and the stuff it does each loop. "
   ]
  },
  {
   "cell_type": "code",
   "execution_count": 27,
   "metadata": {},
   "outputs": [
    {
     "name": "stdout",
     "output_type": "stream",
     "text": [
      "0 0\n",
      "1 1\n",
      "2 4\n",
      "3 9\n",
      "4 16\n",
      "5 25\n",
      "6 36\n",
      "7 49\n",
      "8 64\n",
      "9 81\n"
     ]
    }
   ],
   "source": [
    "for i in np.arange(10): \n",
    "    print(i, i**2)"
   ]
  },
  {
   "cell_type": "code",
   "execution_count": null,
   "metadata": {},
   "outputs": [],
   "source": []
  }
 ],
 "metadata": {
  "kernelspec": {
   "display_name": "Python 3",
   "language": "python",
   "name": "python3"
  },
  "language_info": {
   "codemirror_mode": {
    "name": "ipython",
    "version": 3
   },
   "file_extension": ".py",
   "mimetype": "text/x-python",
   "name": "python",
   "nbconvert_exporter": "python",
   "pygments_lexer": "ipython3",
   "version": "3.6.8"
  }
 },
 "nbformat": 4,
 "nbformat_minor": 1
}
